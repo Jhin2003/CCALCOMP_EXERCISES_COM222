{
 "cells": [
  {
   "cell_type": "markdown",
   "metadata": {
    "colab_type": "text",
    "id": "view-in-github"
   },
   "source": [
    "<a href=\"https://colab.research.google.com/github/robitussin/CCALCOMP_EXERCISES/blob/main/exercise1.ipynb\" target=\"_parent\"><img src=\"https://colab.research.google.com/assets/colab-badge.svg\" alt=\"Open In Colab\"/></a>"
   ]
  },
  {
   "cell_type": "markdown",
   "metadata": {
    "id": "3-prKGbfwFRd"
   },
   "source": [
    "# Exercise 1"
   ]
  },
  {
   "cell_type": "markdown",
   "metadata": {
    "id": "kBW-_z9HwFRf"
   },
   "source": [
    "Please follow the instructions in each number. Do not remove or modify the pre-defined code!"
   ]
  },
  {
   "cell_type": "code",
   "execution_count": 137,
   "metadata": {
    "ExecuteTime": {
     "end_time": "2024-04-19T04:48:28.265609500Z",
     "start_time": "2024-04-19T04:48:28.152674500Z"
    },
    "id": "ABAdD_ngwFRg"
   },
   "outputs": [],
   "source": [
    "# Add a vertex to the set of vertices and the graph\n",
    "def add_vertex(v):\n",
    "  global graph\n",
    "  global vertices_no\n",
    "  global vertices\n",
    "  if v in vertices:\n",
    "    print(\"Vertex \", v, \" already exists\")\n",
    "  else:\n",
    "    vertices_no = vertices_no + 1\n",
    "    vertices.append(v)\n",
    "    if vertices_no > 1:\n",
    "        for vertex in graph:\n",
    "            vertex.append(0)\n",
    "    temp = []\n",
    "    for i in range(vertices_no):\n",
    "        temp.append(0)\n",
    "    graph.append(temp)\n",
    "\n",
    "# Add an edge between vertex v1 and v2 with edge weight e\n",
    "def add_edge(v1, v2, e):\n",
    "    global graph\n",
    "    global vertices_no\n",
    "    global vertices\n",
    "    # Check if vertex v1 is a valid vertex\n",
    "    if v1 not in vertices:\n",
    "        print(\"Vertex \", v1, \" does not exist.\")\n",
    "    # Check if vertex v1 is a valid vertex\n",
    "    elif v2 not in vertices:\n",
    "        print(\"Vertex \", v2, \" does not exist.\")\n",
    "    # Since this code is not restricted to a directed or\n",
    "    # an undirected graph, an edge between v1 v2 does not\n",
    "    # imply that an edge exists between v2 and v1\n",
    "    else:\n",
    "        index1 = vertices.index(v1)\n",
    "        index2 = vertices.index(v2)\n",
    "        graph[index1][index2] = e\n",
    "\n",
    "# Print the graph\n",
    "def print_graph():\n",
    "  global graph\n",
    "  global vertices_no\n",
    "  for i in range(vertices_no):\n",
    "    for j in range(vertices_no):\n",
    "      if graph[i][j] != 0:\n",
    "        print(vertices[i], \" -> \", vertices[j],\n",
    "              \" edge weight: \", graph[i][j])"
   ]
  },
  {
   "cell_type": "code",
   "execution_count": 138,
   "metadata": {
    "ExecuteTime": {
     "end_time": "2024-04-19T04:48:31.691774400Z",
     "start_time": "2024-04-19T04:48:31.529975100Z"
    },
    "id": "912w9tR0wFRh"
   },
   "outputs": [],
   "source": [
    "# stores the vertices in the graph\n",
    "vertices = []\n",
    "# stores the number of vertices in the graph\n",
    "vertices_no = 0\n",
    "graph = []\n"
   ]
  },
  {
   "cell_type": "markdown",
   "metadata": {
    "id": "lzkib3wYwFRh"
   },
   "source": [
    "<img src=\"https://github.com/robitussin/CCALCOMP_EXERCISES/blob/main/images/directed%20graph2.png?raw=true\"/>"
   ]
  },
  {
   "cell_type": "markdown",
   "metadata": {
    "id": "Qfh-2gbPwFRi"
   },
   "source": [
    "1. Print the edges and vertices of the graph in set representation. (`25 points`)"
   ]
  },
  {
   "cell_type": "code",
   "execution_count": 139,
   "metadata": {
    "ExecuteTime": {
     "end_time": "2024-04-19T04:48:54.791381100Z",
     "start_time": "2024-04-19T04:48:54.696631Z"
    },
    "id": "FSymqoxmwFRi"
   },
   "outputs": [
    {
     "name": "stdout",
     "output_type": "stream",
     "text": [
      "V = {\n",
      "E\n",
      "A\n",
      "D\n",
      "C\n",
      "B\n",
      "}\n",
      "\n",
      "E = {\n",
      "E  ->  A  edge weight:  7\n",
      "A  ->  D  edge weight:  60\n",
      "A  ->  C  edge weight:  12\n",
      "C  ->  D  edge weight:  32\n",
      "C  ->  B  edge weight:  20\n",
      "B  ->  A  edge weight:  20\n",
      "}\n"
     ]
    }
   ],
   "source": [
    "add_vertex(\"E\")\n",
    "add_vertex(\"A\")\n",
    "\n",
    "add_vertex(\"D\")\n",
    "add_vertex(\"C\")\n",
    "add_vertex(\"B\")\n",
    "\n",
    "add_edge(\"E\", \"A\", 7)\n",
    "add_edge(\"A\", \"D\", 60)\n",
    "add_edge(\"A\", \"C\", 12)\n",
    "add_edge(\"C\", \"D\", 32)\n",
    "add_edge(\"C\", \"B\", 20)\n",
    "add_edge(\"B\", \"A\", 20)\n",
    "\n",
    "print (\"V = {\")\n",
    "for v in vertices:\n",
    "    print (v)\n",
    "\n",
    "print (\"}\")\n",
    "print(\"\")\n",
    "print(\"E = {\")\n",
    "print_graph()\n",
    "print(\"}\")\n",
    "vertices = []"
   ]
  },
  {
   "cell_type": "markdown",
   "metadata": {
    "id": "NHt6QEFzwFRi"
   },
   "source": [
    "2. Implement the weighted graph in python code. Use the print_graph() function. (`25 points`)"
   ]
  },
  {
   "cell_type": "code",
   "execution_count": 140,
   "metadata": {
    "id": "fcYP9VF9wFRj"
   },
   "outputs": [
    {
     "name": "stdout",
     "output_type": "stream",
     "text": [
      "E  ->  A  edge weight:  7\n",
      "A  ->  D  edge weight:  60\n",
      "A  ->  C  edge weight:  12\n",
      "C  ->  D  edge weight:  32\n",
      "C  ->  B  edge weight:  20\n",
      "B  ->  A  edge weight:  20\n"
     ]
    }
   ],
   "source": [
    "add_vertex(\"E\")\n",
    "add_vertex(\"A\")\n",
    "\n",
    "add_vertex(\"D\")\n",
    "add_vertex(\"C\")\n",
    "add_vertex(\"B\")\n",
    "\n",
    "add_edge(\"E\", \"A\", 7)\n",
    "add_edge(\"A\", \"D\", 60)\n",
    "add_edge(\"A\", \"C\", 12)\n",
    "add_edge(\"C\", \"D\", 32)\n",
    "add_edge(\"C\", \"B\", 20)\n",
    "add_edge(\"B\", \"A\", 20)\n",
    "print_graph()"
   ]
  },
  {
   "cell_type": "markdown",
   "metadata": {
    "id": "kD-6afNTwFRj"
   },
   "source": [
    "3. (Travelling Salesman Problem)\n",
    "You decided to go on a trip around the philippines. Being a computer scientist, you wanted to find the route that would cost the least amount of money to travel all four cities. Find the route and print the total cost of the optimal route. (`50 points`)\n",
    "\n",
    "(Note: You can start at any origin (e.g. Manila))"
   ]
  },
  {
   "cell_type": "markdown",
   "metadata": {
    "id": "cBHIHSIewFRj"
   },
   "source": [
    "<img src=\"https://github.com/robitussin/CCALCOMP_EXERCISES/blob/main/images/trip.png?raw=true\" width=\"500\" height=\"600\"/>"
   ]
  },
  {
   "cell_type": "code",
   "execution_count": 141,
   "metadata": {
    "id": "yNwmvIXnwFRj"
   },
   "outputs": [],
   "source": [
    "#print(\"Puerto Princesa => Tacloban -> Manila -> Davao -> Puerto Princesa  Total Cost 1500 + 1000 + 5000 + 4000\")"
   ]
  }
 ],
 "metadata": {
  "colab": {
   "include_colab_link": true,
   "provenance": []
  },
  "kernelspec": {
   "display_name": "base",
   "language": "python",
   "name": "python3"
  },
  "language_info": {
   "codemirror_mode": {
    "name": "ipython",
    "version": 3
   },
   "file_extension": ".py",
   "mimetype": "text/x-python",
   "name": "python",
   "nbconvert_exporter": "python",
   "pygments_lexer": "ipython3",
   "version": "3.12.3"
  }
 },
 "nbformat": 4,
 "nbformat_minor": 0
}
