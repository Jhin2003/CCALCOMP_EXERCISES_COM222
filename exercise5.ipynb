{
  "cells": [
    {
      "cell_type": "markdown",
      "metadata": {
        "colab_type": "text",
        "id": "view-in-github"
      },
      "source": [
        "<a href=\"https://colab.research.google.com/github/robitussin/CCALCOMP_EXERCISES/blob/main/exercise5.ipynb\" target=\"_parent\"><img src=\"https://colab.research.google.com/assets/colab-badge.svg\" alt=\"Open In Colab\"/></a>"
      ]
    },
    {
      "cell_type": "markdown",
      "metadata": {
        "id": "-8bYOEC8HOQ4"
      },
      "source": [
        "# Exercise 5\n",
        "\n",
        "Please follow the instructions in each number."
      ]
    },
    {
      "cell_type": "markdown",
      "metadata": {
        "id": "FEPXLUAPHOQ6"
      },
      "source": [
        "### Maximum Subarray\n",
        "Given an array of integers nums, find the subarray with the largest sum and return the sum.\n",
        "\n",
        "A subarray is a contiguous non-empty sequence of elements within an array.\n",
        "\n",
        "\n",
        "\n",
        "Example 1:\n",
        "\n",
        "Input: nums = [2,-3,4,-2,2,1,-1,4]\n",
        "\n",
        "Output: 8\n",
        "\n",
        "Explanation: The subarray [4,-2,2,1,-1,4] has the largest sum 8."
      ]
    },
    {
      "cell_type": "markdown",
      "metadata": {
        "id": "D4a-4yS4HOQ7"
      },
      "source": [
        "## Tasks"
      ]
    },
    {
      "cell_type": "markdown",
      "metadata": {
        "id": "v8mlE6kYHOQ7"
      },
      "source": [
        "1. Put your student number in a list and manually compute the maximum subarray in your student number (`10 points`)"
      ]
    },
    {
      "cell_type": "raw",
      "metadata": {
        "id": "YJMIVpuTHOQ8",
        "vscode": {
          "languageId": "raw"
        }
      },
      "source": [
        "     [1,7,0,3,5,5]\n",
        "     \n",
        "     1 + 7 + 0 + 3 + 5 + 5 = 21\n",
        "     7 + 0 + 3 + 5 + 5 = 20\n",
        "     0 + 3 + 5 + 5 = 13\n",
        "     3 + 5 + 5 = 13\n",
        "     5 + 5 = 10\n",
        "     5 = 5\n",
        "\n",
        "     The subarray with max sum is [1,7,0,3,5,5] = 21\n"
      ]
    },
    {
      "cell_type": "markdown",
      "metadata": {
        "id": "nchQgI2KHOQ8"
      },
      "source": [
        "2. Write a program using a brute-force approach to get the maximum-subarray of your student number (`40 points`)"
      ]
    },
    {
      "cell_type": "code",
      "execution_count": 5,
      "metadata": {
        "id": "b9P6oe11HOQ9"
      },
      "outputs": [
        {
          "name": "stdout",
          "output_type": "stream",
          "text": [
            "Sum: 21\n"
          ]
        }
      ],
      "source": [
        "# put your answer here\n",
        "def max_subarray(arr):\n",
        "    n = len(arr)\n",
        "    max_sum = float('-inf')\n",
        "    start = 0\n",
        "    end = 0\n",
        "\n",
        "    for i in range(n):\n",
        "        for j in range(i, n):\n",
        "            current_sum = sum(arr[i:j+1])\n",
        "            if current_sum > max_sum:\n",
        "                max_sum = current_sum\n",
        "                start = i\n",
        "                end = j\n",
        "\n",
        "    return arr[start:end+1]\n",
        "\n",
        "arr = [1, 0, 7, 3, 5, 5]\n",
        "result = max_subarray(arr)\n",
        "print(\" Maximum subarray Sum:\", sum(result))"
      ]
    },
    {
      "cell_type": "markdown",
      "metadata": {
        "id": "NkqAxIx_HOQ9"
      },
      "source": [
        "3. Write a program using a dynamic programming to get the maximum-subarray of your student number (`50 points`)"
      ]
    },
    {
      "cell_type": "code",
      "execution_count": 2,
      "metadata": {
        "id": "BFBp2ARLHOQ9"
      },
      "outputs": [
        {
          "name": "stdout",
          "output_type": "stream",
          "text": [
            "Maximum subarray sum: 21\n"
          ]
        }
      ],
      "source": [
        "# put your answer here\n",
        "def max_subarray(arr):\n",
        "    n = len(arr)\n",
        "    max_sum = arr[0]\n",
        "    current_sum = arr[0]\n",
        "\n",
        "    for i in range(1, n):\n",
        "        current_sum = max(arr[i], current_sum + arr[i])\n",
        "        max_sum = max(max_sum, current_sum)\n",
        "\n",
        "    return max_sum\n",
        "\n",
        "arr = [1, 0, 7, 3, 5, 5]\n",
        "result = max_subarray(arr)\n",
        "print(\"Maximum subarray sum:\", result)"
      ]
    }
  ],
  "metadata": {
    "colab": {
      "include_colab_link": true,
      "provenance": []
    },
    "kernelspec": {
      "display_name": "base",
      "language": "python",
      "name": "python3"
    },
    "language_info": {
      "codemirror_mode": {
        "name": "ipython",
        "version": 3
      },
      "file_extension": ".py",
      "mimetype": "text/x-python",
      "name": "python",
      "nbconvert_exporter": "python",
      "pygments_lexer": "ipython3",
      "version": "3.12.3"
    }
  },
  "nbformat": 4,
  "nbformat_minor": 0
}
